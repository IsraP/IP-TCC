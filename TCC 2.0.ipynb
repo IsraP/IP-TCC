{
 "cells": [
  {
   "cell_type": "code",
   "execution_count": 51,
   "id": "initial_id",
   "metadata": {
    "collapsed": true,
    "ExecuteTime": {
     "end_time": "2024-05-18T00:08:53.024184Z",
     "start_time": "2024-05-18T00:08:53.018188Z"
    }
   },
   "outputs": [],
   "source": [
    "import pandas as pd\n",
    "from datetime import datetime\n",
    "import matplotlib.pyplot as plt\n",
    "import seaborn as sns\n",
    "from sklearn.preprocessing import StandardScaler\n",
    "from sklearn.cluster import KMeans\n",
    "from sklearn.cluster import DBSCAN\n",
    "from sklearn.decomposition import PCA\n",
    "from math import radians, cos, sin, asin, sqrt\n",
    "import numpy as np"
   ]
  },
  {
   "cell_type": "code",
   "outputs": [],
   "source": [
    "input_csv_path = 'data/NY_HOURLY_RIDERSHIP_2022.csv'\n",
    "output_csv_path = 'data/NY_AGGREGATED_RIDERSHIP_2022.csv'"
   ],
   "metadata": {
    "collapsed": false,
    "ExecuteTime": {
     "end_time": "2024-05-18T00:08:53.064161Z",
     "start_time": "2024-05-18T00:08:53.060164Z"
    }
   },
   "id": "dc9260ded5abd31",
   "execution_count": 52
  },
  {
   "cell_type": "code",
   "outputs": [],
   "source": [
    "chunk_size = 10000\n",
    "sample_start_date = '2023-01-01'\n",
    "sample_end_date = '2023-07-01'"
   ],
   "metadata": {
    "collapsed": false,
    "ExecuteTime": {
     "end_time": "2024-05-18T00:08:53.074733Z",
     "start_time": "2024-05-18T00:08:53.066160Z"
    }
   },
   "id": "8039baa995834e23",
   "execution_count": 53
  },
  {
   "cell_type": "code",
   "outputs": [],
   "source": [
    "def map_hour_to_period(hour):\n",
    "    if 1 <= hour <= 6:\n",
    "        return 1\n",
    "    elif 7 <= hour <= 12:\n",
    "        return 2\n",
    "    elif 13 <= hour <= 18:\n",
    "        return 3\n",
    "    elif 19 <= hour <= 24 or hour == 0:\n",
    "        return 4"
   ],
   "metadata": {
    "collapsed": false,
    "ExecuteTime": {
     "end_time": "2024-05-18T00:08:53.086240Z",
     "start_time": "2024-05-18T00:08:53.081726Z"
    }
   },
   "id": "de79ffe60bb8ebbd",
   "execution_count": 54
  },
  {
   "cell_type": "code",
   "outputs": [],
   "source": [
    "def preprocess_chunk(chunk_to_process):\n",
    "    chunk_to_process = chunk_to_process.copy()\n",
    "\n",
    "    chunk_to_process = chunk_to_process[(chunk_to_process['transit_timestamp'] >= sample_start_date) & (chunk_to_process['transit_timestamp'] <= sample_end_date)]\n",
    "    \n",
    "    chunk_to_process['hour'] = chunk_to_process['transit_timestamp'].dt.hour\n",
    "    chunk_to_process['weekday'] = chunk_to_process['transit_timestamp'].dt.weekday\n",
    "    chunk_to_process['period'] = chunk_to_process['hour'].apply(map_hour_to_period)\n",
    "    \n",
    "    return chunk_to_process"
   ],
   "metadata": {
    "collapsed": false,
    "ExecuteTime": {
     "end_time": "2024-05-18T00:12:23.188313Z",
     "start_time": "2024-05-18T00:12:23.183452Z"
    }
   },
   "id": "5ed4204168dffc25",
   "execution_count": 64
  },
  {
   "cell_type": "code",
   "outputs": [],
   "source": [
    "def aggregate_chunk(chunk_to_aggregate):\n",
    "    chunk_to_aggregate = chunk_to_aggregate.copy()\n",
    "\n",
    "    chunk_to_aggregate = chunk_to_aggregate.groupby(['period', 'weekday', 'station_complex_id']).agg({\n",
    "        'station_complex': 'first',\n",
    "        'ridership': 'sum',\n",
    "    }).reset_index()\n",
    "    \n",
    "    return chunk_to_aggregate"
   ],
   "metadata": {
    "collapsed": false,
    "ExecuteTime": {
     "end_time": "2024-05-18T00:12:23.515590Z",
     "start_time": "2024-05-18T00:12:23.510810Z"
    }
   },
   "id": "ec9a24da5a8fe883",
   "execution_count": 65
  },
  {
   "cell_type": "code",
   "outputs": [],
   "source": [
    "chunk_iter = pd.read_csv(input_csv_path, chunksize=chunk_size, parse_dates=['transit_timestamp'], date_format='%m/%d/%Y %I:%M:%S %p')\n",
    "\n",
    "sampled_chunks = []\n",
    "\n",
    "for chunk in chunk_iter:\n",
    "    preprocessed_chunk = preprocess_chunk(chunk)\n",
    "    grouped_chunk = aggregate_chunk(preprocessed_chunk)\n",
    "\n",
    "    if not grouped_chunk.empty:\n",
    "        sampled_chunks.append(grouped_chunk)"
   ],
   "metadata": {
    "collapsed": false,
    "ExecuteTime": {
     "end_time": "2024-05-18T00:34:28.333513Z",
     "start_time": "2024-05-18T00:26:11.865489Z"
    }
   },
   "id": "1681de5277f5cf46",
   "execution_count": 75
  },
  {
   "cell_type": "code",
   "outputs": [],
   "source": [
    "df = pd.concat(sampled_chunks)\n",
    "df = aggregate_chunk(df)\n",
    "\n",
    "df.to_csv(output_csv_path, index=False)"
   ],
   "metadata": {
    "collapsed": false,
    "ExecuteTime": {
     "end_time": "2024-05-18T00:37:23.833733Z",
     "start_time": "2024-05-18T00:37:23.546053Z"
    }
   },
   "id": "6b633874649f1428",
   "execution_count": 78
  },
  {
   "cell_type": "code",
   "outputs": [],
   "source": [],
   "metadata": {
    "collapsed": false,
    "ExecuteTime": {
     "end_time": "2024-05-18T00:56:11.780448Z",
     "start_time": "2024-05-18T00:56:11.777846Z"
    }
   },
   "id": "e7ce3676116bf77e",
   "execution_count": 78
  }
 ],
 "metadata": {
  "kernelspec": {
   "display_name": "Python 3",
   "language": "python",
   "name": "python3"
  },
  "language_info": {
   "codemirror_mode": {
    "name": "ipython",
    "version": 2
   },
   "file_extension": ".py",
   "mimetype": "text/x-python",
   "name": "python",
   "nbconvert_exporter": "python",
   "pygments_lexer": "ipython2",
   "version": "2.7.6"
  }
 },
 "nbformat": 4,
 "nbformat_minor": 5
}
