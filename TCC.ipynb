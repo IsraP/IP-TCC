{
 "cells": [
  {
   "cell_type": "code",
   "outputs": [],
   "source": [
    "import pandas as pd\n",
    "from datetime import datetime\n",
    "import matplotlib.pyplot as plt\n",
    "import seaborn as sns"
   ],
   "metadata": {
    "collapsed": false,
    "ExecuteTime": {
     "end_time": "2024-03-23T23:06:14.915145Z",
     "start_time": "2024-03-23T23:06:14.911033Z"
    }
   },
   "id": "9d88e2d305e65236",
   "execution_count": 2
  },
  {
   "cell_type": "code",
   "execution_count": 15,
   "id": "initial_id",
   "metadata": {
    "collapsed": true,
    "ExecuteTime": {
     "end_time": "2024-03-23T23:23:56.704179Z",
     "start_time": "2024-03-23T23:23:56.698669Z"
    }
   },
   "outputs": [],
   "source": [
    "input_csv_path = 'data/NY_HOURLY_RIDERSHIP_2022.csv'\n",
    "output_csv_path = 'data/NY_SAMPLED_RIDERSHIP_2022.csv'\n",
    "holidays_csv_path = 'data/Holidays Dataset US.csv'"
   ]
  },
  {
   "cell_type": "markdown",
   "source": [
    "# Sampling the dataset"
   ],
   "metadata": {
    "collapsed": false
   },
   "id": "3b50bba436c081b2"
  },
  {
   "cell_type": "code",
   "outputs": [],
   "source": [
    "chunk_size = 10000"
   ],
   "metadata": {
    "collapsed": false,
    "ExecuteTime": {
     "end_time": "2024-03-23T14:48:47.469819Z",
     "start_time": "2024-03-23T14:48:47.457826Z"
    }
   },
   "id": "1f1623fe6a86bb88",
   "execution_count": 19
  },
  {
   "cell_type": "code",
   "outputs": [],
   "source": [
    "sample_start_date = '2023-01-01'\n",
    "sample_end_date = '2023-01-31'"
   ],
   "metadata": {
    "collapsed": false,
    "ExecuteTime": {
     "end_time": "2024-03-23T15:43:10.504862Z",
     "start_time": "2024-03-23T15:43:10.500220Z"
    }
   },
   "id": "628fe56933db9bed",
   "execution_count": 32
  },
  {
   "cell_type": "code",
   "outputs": [
    {
     "name": "stderr",
     "output_type": "stream",
     "text": [
      "C:\\Users\\Israe\\AppData\\Local\\Temp\\ipykernel_2548\\1672532401.py:2: FutureWarning: The argument 'date_parser' is deprecated and will be removed in a future version. Please use 'date_format' instead, or read your data in as 'object' dtype and then call 'to_datetime'.\n",
      "  chunk_iter = pd.read_csv(input_csv_path, chunksize=chunk_size, parse_dates=['transit_timestamp'], date_parser=dateparse)\n"
     ]
    }
   ],
   "source": [
    "# Create an iterator over chunks of the CSV file\n",
    "chunk_iter = pd.read_csv(input_csv_path, chunksize=chunk_size, parse_dates=['transit_timestamp'], date_parser = lambda x: datetime.strptime(x, '%m/%d/%Y %I:%M:%S %p'))\n",
    "\n",
    "sampled_chunks = []\n",
    "\n",
    "for chunk in chunk_iter:\n",
    "    filtered_chunk = chunk[(chunk['transit_timestamp'] >= sample_start_date) & (chunk['transit_timestamp'] <= sample_end_date)]\n",
    "    \n",
    "    if not filtered_chunk.empty:\n",
    "        sampled_chunks.append(filtered_chunk)"
   ],
   "metadata": {
    "collapsed": false,
    "ExecuteTime": {
     "end_time": "2024-03-23T15:06:53.924783Z",
     "start_time": "2024-03-23T14:48:47.483811Z"
    }
   },
   "id": "5b3a1d90db75def7",
   "execution_count": 21
  },
  {
   "cell_type": "code",
   "outputs": [],
   "source": [
    "sampled_df = pd.concat(sampled_chunks)\n",
    "sampled_df.to_csv(output_csv_path, index=False)"
   ],
   "metadata": {
    "collapsed": false
   },
   "id": "a42581dd13830e13",
   "execution_count": null
  },
  {
   "cell_type": "markdown",
   "source": [
    "# Preprocessing"
   ],
   "metadata": {
    "collapsed": false
   },
   "id": "dd02aec2baa8aabd"
  },
  {
   "cell_type": "code",
   "outputs": [],
   "source": [
    "sampled_df = pd.read_csv(output_csv_path, parse_dates=['transit_timestamp'])"
   ],
   "metadata": {
    "collapsed": false,
    "is_executing": true
   },
   "id": "aedb49b621b138af",
   "execution_count": null
  },
  {
   "cell_type": "code",
   "outputs": [],
   "source": [
    "sampled_df = sampled_df.drop('payment_method', axis=1)\n",
    "sampled_df = sampled_df.drop('fare_class_category', axis=1)\n",
    "sampled_df = sampled_df.drop('Georeference', axis=1)\n",
    "sampled_df = sampled_df.drop('transit_mode', axis=1)"
   ],
   "metadata": {
    "collapsed": false,
    "ExecuteTime": {
     "end_time": "2024-03-23T23:36:13.864487Z",
     "start_time": "2024-03-23T23:36:13.117553Z"
    }
   },
   "id": "3d2e9bccaa6217bf",
   "execution_count": 33
  },
  {
   "cell_type": "code",
   "outputs": [],
   "source": [
    "sampled_df['date'] = sampled_df['transit_timestamp'].dt.date"
   ],
   "metadata": {
    "collapsed": false,
    "ExecuteTime": {
     "end_time": "2024-03-23T23:36:14.582670Z",
     "start_time": "2024-03-23T23:36:13.865486Z"
    }
   },
   "id": "ca73824b6669e021",
   "execution_count": 34
  },
  {
   "cell_type": "code",
   "outputs": [],
   "source": [
    "# Adding a is holiday column\n",
    "\n",
    "holidays_dataset = pd.read_csv(holidays_csv_path)\n",
    "\n",
    "holidays_dataset = holidays_dataset[holidays_dataset['Type'] == \"['National holiday']\"]\n",
    "\n",
    "holidays_dataset['Date'] = pd.to_datetime(holidays_dataset['Date'], errors='coerce')\n",
    "holiday_dates = set(holidays_dataset['Date'].dt.date)\n",
    "\n",
    "sampled_df['is_holiday'] = sampled_df['date'].apply(lambda x: x in holiday_dates)"
   ],
   "metadata": {
    "collapsed": false,
    "ExecuteTime": {
     "end_time": "2024-03-24T00:09:16.063752Z",
     "start_time": "2024-03-24T00:09:15.501926Z"
    }
   },
   "id": "b6d30ce9a0c89abd",
   "execution_count": 55
  },
  {
   "cell_type": "code",
   "outputs": [],
   "source": [],
   "metadata": {
    "collapsed": false,
    "ExecuteTime": {
     "end_time": "2024-03-24T00:08:24.660596Z",
     "start_time": "2024-03-24T00:08:24.656371Z"
    }
   },
   "id": "c245b720ec5dbdd",
   "execution_count": 54
  },
  {
   "cell_type": "markdown",
   "source": [
    "# Data analysis"
   ],
   "metadata": {
    "collapsed": false
   },
   "id": "267c2e5e9334a938"
  },
  {
   "cell_type": "code",
   "outputs": [],
   "source": [
    "sampled_df['day_of_week'] = sampled_df['transit_timestamp'].dt.day_name()\n",
    "sampled_df['hour'] = sampled_df['transit_timestamp'].dt.hour\n",
    "\n",
    "days_order = ['Monday', 'Tuesday', 'Wednesday', 'Thursday', 'Friday', 'Saturday', 'Sunday']\n",
    "\n",
    "for day in days_order:\n",
    "    day_df = sampled_df[sampled_df['day_of_week'] == day]\n",
    "\n",
    "    pivot_df = day_df.pivot_table(index='hour', columns='station_complex', values='ridership', aggfunc='sum')\n",
    "\n",
    "    pivot_df['Average'] = pivot_df.mean(axis=1)\n",
    "\n",
    "    plt.figure(figsize=(10, 5)) \n",
    "    sns.lineplot(data=pivot_df.drop(columns=['Average']), palette=['blue']*(len(pivot_df.columns)-1), legend=False, linewidth=1)\n",
    "    sns.lineplot(data=pivot_df['Average'], color='red', linewidth=2) \n",
    "    plt.title(f'Ridership by Hour for {day}')\n",
    "    plt.xlabel('Hour of the Day')\n",
    "    plt.ylabel('Ridership')\n",
    "    plt.xticks(range(24))\n",
    "    plt.show()"
   ],
   "metadata": {
    "collapsed": false
   },
   "id": "b618846e1f371473",
   "execution_count": null
  },
  {
   "cell_type": "code",
   "outputs": [],
   "source": [],
   "metadata": {
    "collapsed": false
   },
   "id": "a0f80d3000eb2068"
  }
 ],
 "metadata": {
  "kernelspec": {
   "display_name": "Python 3",
   "language": "python",
   "name": "python3"
  },
  "language_info": {
   "codemirror_mode": {
    "name": "ipython",
    "version": 2
   },
   "file_extension": ".py",
   "mimetype": "text/x-python",
   "name": "python",
   "nbconvert_exporter": "python",
   "pygments_lexer": "ipython2",
   "version": "2.7.6"
  }
 },
 "nbformat": 4,
 "nbformat_minor": 5
}
