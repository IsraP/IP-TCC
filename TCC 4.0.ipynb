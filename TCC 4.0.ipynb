{
 "cells": [
  {
   "metadata": {
    "ExecuteTime": {
     "end_time": "2024-06-11T21:25:31.809205Z",
     "start_time": "2024-06-11T21:25:31.804356Z"
    }
   },
   "cell_type": "code",
   "source": [
    "import pandas as pd\n",
    "from pycaret.regression import *\n",
    "from datetime import datetime, timedelta"
   ],
   "id": "acb79a55d67eca5a",
   "outputs": [],
   "execution_count": 15
  },
  {
   "metadata": {
    "ExecuteTime": {
     "end_time": "2024-06-11T21:25:31.842275Z",
     "start_time": "2024-06-11T21:25:31.837186Z"
    }
   },
   "cell_type": "code",
   "source": [
    "input_csv_path = 'data/NY_HOURLY_RIDERSHIP_2022.csv'\n",
    "# output_csv_path = 'data/NY_AGGREGATED_RIDERSHIP_2022.csv'"
   ],
   "id": "21772bda182e8062",
   "outputs": [],
   "execution_count": 16
  },
  {
   "metadata": {
    "ExecuteTime": {
     "end_time": "2024-06-11T21:25:31.882976Z",
     "start_time": "2024-06-11T21:25:31.876254Z"
    }
   },
   "cell_type": "code",
   "source": [
    "chunk_size = 50000\n",
    "base_date = datetime.strptime('2023-01-01', '%Y-%m-%d')\n",
    "intervals = {\n",
    "    # 'one_day': (base_date, base_date + timedelta(days=1)),\n",
    "    # 'one_week': (base_date, base_date + timedelta(weeks=1)),\n",
    "    # 'one_month': (base_date, base_date + timedelta(days=30)),\n",
    "    # 'two_months': (base_date, base_date + timedelta(days=30*2)),\n",
    "    # 'three_months': (base_date, base_date + timedelta(days=30*3)),\n",
    "    'five_months': (base_date, base_date + timedelta(days=30*5))\n",
    "}"
   ],
   "id": "7a9201e811d945a3",
   "outputs": [],
   "execution_count": 17
  },
  {
   "metadata": {
    "ExecuteTime": {
     "end_time": "2024-06-11T21:25:31.904066Z",
     "start_time": "2024-06-11T21:25:31.898964Z"
    }
   },
   "cell_type": "code",
   "source": [
    "def map_hour_to_period(hour):\n",
    "    if 1 <= hour <= 6:\n",
    "        return 1\n",
    "    elif 7 <= hour <= 12:\n",
    "        return 2\n",
    "    elif 13 <= hour <= 18:\n",
    "        return 3\n",
    "    elif 19 <= hour <= 24 or hour == 0:\n",
    "        return 4"
   ],
   "id": "d5c1a0dd8feac29",
   "outputs": [],
   "execution_count": 18
  },
  {
   "metadata": {
    "ExecuteTime": {
     "end_time": "2024-06-11T21:25:31.926028Z",
     "start_time": "2024-06-11T21:25:31.918055Z"
    }
   },
   "cell_type": "code",
   "source": [
    "def process_interval(start_date, end_date):\n",
    "    iterator = pd.read_csv(input_csv_path, chunksize=chunk_size, parse_dates=['transit_timestamp'], date_format='%Y-%m-%d %H:%M:%S')\n",
    "    \n",
    "    chunks_to_save = []\n",
    "\n",
    "    for current_chunk in iterator:\n",
    "        current_chunk['transit_timestamp'] = pd.to_datetime(current_chunk['transit_timestamp'], format='%m/%d/%Y %I:%M:%S %p', errors='raise')\n",
    "        \n",
    "        chunk_being_processed = current_chunk[(current_chunk['transit_timestamp'] >= start_date) & (current_chunk['transit_timestamp'] < end_date)]\n",
    "        chunk_being_processed['date'] = chunk_being_processed['transit_timestamp'].dt.date\n",
    "        chunk_being_processed['hour'] = chunk_being_processed['transit_timestamp'].dt.hour\n",
    "        chunk_being_processed['weekday'] = chunk_being_processed['transit_timestamp'].dt.weekday\n",
    "        chunk_being_processed['period'] = chunk_being_processed['hour'].apply(map_hour_to_period)\n",
    "        \n",
    "        chunk_being_grouped = chunk_being_processed.groupby(['period', 'weekday', 'station_complex_id']).agg({\n",
    "            'ridership': 'mean',\n",
    "            'latitude': 'first',\n",
    "            'longitude': 'first'\n",
    "        }).reset_index()\n",
    "\n",
    "        if not chunk_being_grouped.empty:\n",
    "            chunks_to_save.append(chunk_being_grouped)\n",
    "\n",
    "    dataframe = pd.concat(chunks_to_save)\n",
    "    dataframe = dataframe.groupby(['period', 'weekday', 'station_complex_id']).agg({\n",
    "        'ridership': 'mean',\n",
    "        'latitude': 'first',\n",
    "        'longitude': 'first'\n",
    "    }).reset_index()\n",
    "    \n",
    "    return dataframe"
   ],
   "id": "75dc05d801575147",
   "outputs": [],
   "execution_count": 19
  },
  {
   "metadata": {
    "ExecuteTime": {
     "end_time": "2024-06-11T21:31:47.188392Z",
     "start_time": "2024-06-11T21:25:31.956008Z"
    }
   },
   "cell_type": "code",
   "source": [
    "all_intervals_df = []\n",
    "for label, (start, end) in intervals.items():\n",
    "    print(f\"Initiating processing of interval {start} to {end}\")\n",
    "    \n",
    "    interval_df = process_interval(start, end)\n",
    "    \n",
    "    all_intervals_df.append(interval_df)\n",
    "\n",
    "final_df = pd.concat(all_intervals_df)"
   ],
   "id": "f2e895e40e0d4cf4",
   "outputs": [
    {
     "name": "stdout",
     "output_type": "stream",
     "text": [
      "Initiating processing of interval 2023-01-01 00:00:00 to 2023-05-31 00:00:00\n"
     ]
    }
   ],
   "execution_count": 20
  },
  {
   "metadata": {
    "ExecuteTime": {
     "end_time": "2024-06-11T21:31:47.199495Z",
     "start_time": "2024-06-11T21:31:47.190388Z"
    }
   },
   "cell_type": "code",
   "source": [
    "final_df = final_df.reset_index()\n",
    "\n",
    "final_df['station_complex_id'] = final_df['station_complex_id'].astype(str)\n",
    "final_df = final_df.drop('index', axis=1)"
   ],
   "id": "a9a6fde28707cc57",
   "outputs": [],
   "execution_count": 21
  },
  {
   "metadata": {
    "ExecuteTime": {
     "end_time": "2024-06-11T21:32:36.206711Z",
     "start_time": "2024-06-11T21:31:47.201246Z"
    }
   },
   "cell_type": "code",
   "source": [
    "setup(data=final_df, target='ridership', session_id=123, train_size=0.8, categorical_features=['station_complex_id'], normalize=True)\n",
    "\n",
    "best_model = compare_models()"
   ],
   "id": "47be2a3565dc7c03",
   "outputs": [
    {
     "data": {
      "text/plain": [
       "<pandas.io.formats.style.Styler at 0x226d6439010>"
      ],
      "text/html": [
       "<style type=\"text/css\">\n",
       "#T_6bd66_row9_col1, #T_6bd66_row15_col1 {\n",
       "  background-color: lightgreen;\n",
       "}\n",
       "</style>\n",
       "<table id=\"T_6bd66\">\n",
       "  <thead>\n",
       "    <tr>\n",
       "      <th class=\"blank level0\" >&nbsp;</th>\n",
       "      <th id=\"T_6bd66_level0_col0\" class=\"col_heading level0 col0\" >Description</th>\n",
       "      <th id=\"T_6bd66_level0_col1\" class=\"col_heading level0 col1\" >Value</th>\n",
       "    </tr>\n",
       "  </thead>\n",
       "  <tbody>\n",
       "    <tr>\n",
       "      <th id=\"T_6bd66_level0_row0\" class=\"row_heading level0 row0\" >0</th>\n",
       "      <td id=\"T_6bd66_row0_col0\" class=\"data row0 col0\" >Session id</td>\n",
       "      <td id=\"T_6bd66_row0_col1\" class=\"data row0 col1\" >123</td>\n",
       "    </tr>\n",
       "    <tr>\n",
       "      <th id=\"T_6bd66_level0_row1\" class=\"row_heading level0 row1\" >1</th>\n",
       "      <td id=\"T_6bd66_row1_col0\" class=\"data row1 col0\" >Target</td>\n",
       "      <td id=\"T_6bd66_row1_col1\" class=\"data row1 col1\" >ridership</td>\n",
       "    </tr>\n",
       "    <tr>\n",
       "      <th id=\"T_6bd66_level0_row2\" class=\"row_heading level0 row2\" >2</th>\n",
       "      <td id=\"T_6bd66_row2_col0\" class=\"data row2 col0\" >Target type</td>\n",
       "      <td id=\"T_6bd66_row2_col1\" class=\"data row2 col1\" >Regression</td>\n",
       "    </tr>\n",
       "    <tr>\n",
       "      <th id=\"T_6bd66_level0_row3\" class=\"row_heading level0 row3\" >3</th>\n",
       "      <td id=\"T_6bd66_row3_col0\" class=\"data row3 col0\" >Original data shape</td>\n",
       "      <td id=\"T_6bd66_row3_col1\" class=\"data row3 col1\" >(12043, 6)</td>\n",
       "    </tr>\n",
       "    <tr>\n",
       "      <th id=\"T_6bd66_level0_row4\" class=\"row_heading level0 row4\" >4</th>\n",
       "      <td id=\"T_6bd66_row4_col0\" class=\"data row4 col0\" >Transformed data shape</td>\n",
       "      <td id=\"T_6bd66_row4_col1\" class=\"data row4 col1\" >(12043, 6)</td>\n",
       "    </tr>\n",
       "    <tr>\n",
       "      <th id=\"T_6bd66_level0_row5\" class=\"row_heading level0 row5\" >5</th>\n",
       "      <td id=\"T_6bd66_row5_col0\" class=\"data row5 col0\" >Transformed train set shape</td>\n",
       "      <td id=\"T_6bd66_row5_col1\" class=\"data row5 col1\" >(9634, 6)</td>\n",
       "    </tr>\n",
       "    <tr>\n",
       "      <th id=\"T_6bd66_level0_row6\" class=\"row_heading level0 row6\" >6</th>\n",
       "      <td id=\"T_6bd66_row6_col0\" class=\"data row6 col0\" >Transformed test set shape</td>\n",
       "      <td id=\"T_6bd66_row6_col1\" class=\"data row6 col1\" >(2409, 6)</td>\n",
       "    </tr>\n",
       "    <tr>\n",
       "      <th id=\"T_6bd66_level0_row7\" class=\"row_heading level0 row7\" >7</th>\n",
       "      <td id=\"T_6bd66_row7_col0\" class=\"data row7 col0\" >Numeric features</td>\n",
       "      <td id=\"T_6bd66_row7_col1\" class=\"data row7 col1\" >4</td>\n",
       "    </tr>\n",
       "    <tr>\n",
       "      <th id=\"T_6bd66_level0_row8\" class=\"row_heading level0 row8\" >8</th>\n",
       "      <td id=\"T_6bd66_row8_col0\" class=\"data row8 col0\" >Categorical features</td>\n",
       "      <td id=\"T_6bd66_row8_col1\" class=\"data row8 col1\" >1</td>\n",
       "    </tr>\n",
       "    <tr>\n",
       "      <th id=\"T_6bd66_level0_row9\" class=\"row_heading level0 row9\" >9</th>\n",
       "      <td id=\"T_6bd66_row9_col0\" class=\"data row9 col0\" >Preprocess</td>\n",
       "      <td id=\"T_6bd66_row9_col1\" class=\"data row9 col1\" >True</td>\n",
       "    </tr>\n",
       "    <tr>\n",
       "      <th id=\"T_6bd66_level0_row10\" class=\"row_heading level0 row10\" >10</th>\n",
       "      <td id=\"T_6bd66_row10_col0\" class=\"data row10 col0\" >Imputation type</td>\n",
       "      <td id=\"T_6bd66_row10_col1\" class=\"data row10 col1\" >simple</td>\n",
       "    </tr>\n",
       "    <tr>\n",
       "      <th id=\"T_6bd66_level0_row11\" class=\"row_heading level0 row11\" >11</th>\n",
       "      <td id=\"T_6bd66_row11_col0\" class=\"data row11 col0\" >Numeric imputation</td>\n",
       "      <td id=\"T_6bd66_row11_col1\" class=\"data row11 col1\" >mean</td>\n",
       "    </tr>\n",
       "    <tr>\n",
       "      <th id=\"T_6bd66_level0_row12\" class=\"row_heading level0 row12\" >12</th>\n",
       "      <td id=\"T_6bd66_row12_col0\" class=\"data row12 col0\" >Categorical imputation</td>\n",
       "      <td id=\"T_6bd66_row12_col1\" class=\"data row12 col1\" >mode</td>\n",
       "    </tr>\n",
       "    <tr>\n",
       "      <th id=\"T_6bd66_level0_row13\" class=\"row_heading level0 row13\" >13</th>\n",
       "      <td id=\"T_6bd66_row13_col0\" class=\"data row13 col0\" >Maximum one-hot encoding</td>\n",
       "      <td id=\"T_6bd66_row13_col1\" class=\"data row13 col1\" >25</td>\n",
       "    </tr>\n",
       "    <tr>\n",
       "      <th id=\"T_6bd66_level0_row14\" class=\"row_heading level0 row14\" >14</th>\n",
       "      <td id=\"T_6bd66_row14_col0\" class=\"data row14 col0\" >Encoding method</td>\n",
       "      <td id=\"T_6bd66_row14_col1\" class=\"data row14 col1\" >None</td>\n",
       "    </tr>\n",
       "    <tr>\n",
       "      <th id=\"T_6bd66_level0_row15\" class=\"row_heading level0 row15\" >15</th>\n",
       "      <td id=\"T_6bd66_row15_col0\" class=\"data row15 col0\" >Normalize</td>\n",
       "      <td id=\"T_6bd66_row15_col1\" class=\"data row15 col1\" >True</td>\n",
       "    </tr>\n",
       "    <tr>\n",
       "      <th id=\"T_6bd66_level0_row16\" class=\"row_heading level0 row16\" >16</th>\n",
       "      <td id=\"T_6bd66_row16_col0\" class=\"data row16 col0\" >Normalize method</td>\n",
       "      <td id=\"T_6bd66_row16_col1\" class=\"data row16 col1\" >zscore</td>\n",
       "    </tr>\n",
       "    <tr>\n",
       "      <th id=\"T_6bd66_level0_row17\" class=\"row_heading level0 row17\" >17</th>\n",
       "      <td id=\"T_6bd66_row17_col0\" class=\"data row17 col0\" >Fold Generator</td>\n",
       "      <td id=\"T_6bd66_row17_col1\" class=\"data row17 col1\" >KFold</td>\n",
       "    </tr>\n",
       "    <tr>\n",
       "      <th id=\"T_6bd66_level0_row18\" class=\"row_heading level0 row18\" >18</th>\n",
       "      <td id=\"T_6bd66_row18_col0\" class=\"data row18 col0\" >Fold Number</td>\n",
       "      <td id=\"T_6bd66_row18_col1\" class=\"data row18 col1\" >10</td>\n",
       "    </tr>\n",
       "    <tr>\n",
       "      <th id=\"T_6bd66_level0_row19\" class=\"row_heading level0 row19\" >19</th>\n",
       "      <td id=\"T_6bd66_row19_col0\" class=\"data row19 col0\" >CPU Jobs</td>\n",
       "      <td id=\"T_6bd66_row19_col1\" class=\"data row19 col1\" >-1</td>\n",
       "    </tr>\n",
       "    <tr>\n",
       "      <th id=\"T_6bd66_level0_row20\" class=\"row_heading level0 row20\" >20</th>\n",
       "      <td id=\"T_6bd66_row20_col0\" class=\"data row20 col0\" >Use GPU</td>\n",
       "      <td id=\"T_6bd66_row20_col1\" class=\"data row20 col1\" >False</td>\n",
       "    </tr>\n",
       "    <tr>\n",
       "      <th id=\"T_6bd66_level0_row21\" class=\"row_heading level0 row21\" >21</th>\n",
       "      <td id=\"T_6bd66_row21_col0\" class=\"data row21 col0\" >Log Experiment</td>\n",
       "      <td id=\"T_6bd66_row21_col1\" class=\"data row21 col1\" >False</td>\n",
       "    </tr>\n",
       "    <tr>\n",
       "      <th id=\"T_6bd66_level0_row22\" class=\"row_heading level0 row22\" >22</th>\n",
       "      <td id=\"T_6bd66_row22_col0\" class=\"data row22 col0\" >Experiment Name</td>\n",
       "      <td id=\"T_6bd66_row22_col1\" class=\"data row22 col1\" >reg-default-name</td>\n",
       "    </tr>\n",
       "    <tr>\n",
       "      <th id=\"T_6bd66_level0_row23\" class=\"row_heading level0 row23\" >23</th>\n",
       "      <td id=\"T_6bd66_row23_col0\" class=\"data row23 col0\" >USI</td>\n",
       "      <td id=\"T_6bd66_row23_col1\" class=\"data row23 col1\" >bcf3</td>\n",
       "    </tr>\n",
       "  </tbody>\n",
       "</table>\n"
      ]
     },
     "metadata": {},
     "output_type": "display_data"
    },
    {
     "data": {
      "text/plain": [
       "                                                                    \n",
       "                                                                    \n",
       "Initiated  . . . . . . . . . . . . . . . . . .              18:31:49\n",
       "Status     . . . . . . . . . . . . . . . . . .  Loading Dependencies\n",
       "Estimator  . . . . . . . . . . . . . . . . . .     Compiling Library"
      ],
      "text/html": [
       "<div>\n",
       "<style scoped>\n",
       "    .dataframe tbody tr th:only-of-type {\n",
       "        vertical-align: middle;\n",
       "    }\n",
       "\n",
       "    .dataframe tbody tr th {\n",
       "        vertical-align: top;\n",
       "    }\n",
       "\n",
       "    .dataframe thead th {\n",
       "        text-align: right;\n",
       "    }\n",
       "</style>\n",
       "<table border=\"1\" class=\"dataframe\">\n",
       "  <thead>\n",
       "    <tr style=\"text-align: right;\">\n",
       "      <th></th>\n",
       "      <th></th>\n",
       "      <th></th>\n",
       "    </tr>\n",
       "    <tr>\n",
       "      <th></th>\n",
       "      <th></th>\n",
       "      <th></th>\n",
       "    </tr>\n",
       "  </thead>\n",
       "  <tbody>\n",
       "    <tr>\n",
       "      <th>Initiated</th>\n",
       "      <td>. . . . . . . . . . . . . . . . . .</td>\n",
       "      <td>18:31:49</td>\n",
       "    </tr>\n",
       "    <tr>\n",
       "      <th>Status</th>\n",
       "      <td>. . . . . . . . . . . . . . . . . .</td>\n",
       "      <td>Loading Dependencies</td>\n",
       "    </tr>\n",
       "    <tr>\n",
       "      <th>Estimator</th>\n",
       "      <td>. . . . . . . . . . . . . . . . . .</td>\n",
       "      <td>Compiling Library</td>\n",
       "    </tr>\n",
       "  </tbody>\n",
       "</table>\n",
       "</div>"
      ]
     },
     "metadata": {},
     "output_type": "display_data"
    },
    {
     "data": {
      "text/plain": [
       "<IPython.core.display.HTML object>"
      ],
      "text/html": []
     },
     "metadata": {},
     "output_type": "display_data"
    },
    {
     "data": {
      "text/plain": [
       "<pandas.io.formats.style.Styler at 0x226d6d32050>"
      ],
      "text/html": [
       "<style type=\"text/css\">\n",
       "#T_f52ad th {\n",
       "  text-align: left;\n",
       "}\n",
       "#T_f52ad_row0_col0, #T_f52ad_row0_col5, #T_f52ad_row0_col6, #T_f52ad_row1_col0, #T_f52ad_row1_col1, #T_f52ad_row1_col2, #T_f52ad_row1_col3, #T_f52ad_row1_col4, #T_f52ad_row2_col0, #T_f52ad_row2_col1, #T_f52ad_row2_col2, #T_f52ad_row2_col3, #T_f52ad_row2_col4, #T_f52ad_row2_col5, #T_f52ad_row2_col6, #T_f52ad_row3_col0, #T_f52ad_row3_col1, #T_f52ad_row3_col2, #T_f52ad_row3_col3, #T_f52ad_row3_col4, #T_f52ad_row3_col5, #T_f52ad_row3_col6, #T_f52ad_row4_col0, #T_f52ad_row4_col1, #T_f52ad_row4_col2, #T_f52ad_row4_col3, #T_f52ad_row4_col4, #T_f52ad_row4_col5, #T_f52ad_row4_col6, #T_f52ad_row5_col0, #T_f52ad_row5_col1, #T_f52ad_row5_col2, #T_f52ad_row5_col3, #T_f52ad_row5_col4, #T_f52ad_row5_col5, #T_f52ad_row5_col6, #T_f52ad_row6_col0, #T_f52ad_row6_col1, #T_f52ad_row6_col2, #T_f52ad_row6_col3, #T_f52ad_row6_col4, #T_f52ad_row6_col5, #T_f52ad_row6_col6, #T_f52ad_row7_col0, #T_f52ad_row7_col1, #T_f52ad_row7_col2, #T_f52ad_row7_col3, #T_f52ad_row7_col4, #T_f52ad_row7_col5, #T_f52ad_row7_col6, #T_f52ad_row8_col0, #T_f52ad_row8_col1, #T_f52ad_row8_col2, #T_f52ad_row8_col3, #T_f52ad_row8_col4, #T_f52ad_row8_col5, #T_f52ad_row8_col6, #T_f52ad_row9_col0, #T_f52ad_row9_col1, #T_f52ad_row9_col2, #T_f52ad_row9_col3, #T_f52ad_row9_col4, #T_f52ad_row9_col5, #T_f52ad_row9_col6, #T_f52ad_row10_col0, #T_f52ad_row10_col1, #T_f52ad_row10_col2, #T_f52ad_row10_col3, #T_f52ad_row10_col4, #T_f52ad_row10_col5, #T_f52ad_row10_col6, #T_f52ad_row11_col0, #T_f52ad_row11_col1, #T_f52ad_row11_col2, #T_f52ad_row11_col3, #T_f52ad_row11_col4, #T_f52ad_row11_col5, #T_f52ad_row11_col6, #T_f52ad_row12_col0, #T_f52ad_row12_col1, #T_f52ad_row12_col2, #T_f52ad_row12_col3, #T_f52ad_row12_col4, #T_f52ad_row12_col5, #T_f52ad_row12_col6, #T_f52ad_row13_col0, #T_f52ad_row13_col1, #T_f52ad_row13_col2, #T_f52ad_row13_col3, #T_f52ad_row13_col4, #T_f52ad_row13_col5, #T_f52ad_row13_col6, #T_f52ad_row14_col0, #T_f52ad_row14_col1, #T_f52ad_row14_col2, #T_f52ad_row14_col3, #T_f52ad_row14_col4, #T_f52ad_row14_col5, #T_f52ad_row14_col6, #T_f52ad_row15_col0, #T_f52ad_row15_col1, #T_f52ad_row15_col2, #T_f52ad_row15_col3, #T_f52ad_row15_col4, #T_f52ad_row15_col5, #T_f52ad_row15_col6, #T_f52ad_row16_col0, #T_f52ad_row16_col1, #T_f52ad_row16_col2, #T_f52ad_row16_col3, #T_f52ad_row16_col4, #T_f52ad_row16_col5, #T_f52ad_row16_col6, #T_f52ad_row17_col0, #T_f52ad_row17_col1, #T_f52ad_row17_col2, #T_f52ad_row17_col3, #T_f52ad_row17_col4, #T_f52ad_row17_col5, #T_f52ad_row17_col6 {\n",
       "  text-align: left;\n",
       "}\n",
       "#T_f52ad_row0_col1, #T_f52ad_row0_col2, #T_f52ad_row0_col3, #T_f52ad_row0_col4, #T_f52ad_row1_col5, #T_f52ad_row1_col6 {\n",
       "  text-align: left;\n",
       "  background-color: yellow;\n",
       "}\n",
       "#T_f52ad_row0_col7, #T_f52ad_row1_col7, #T_f52ad_row2_col7, #T_f52ad_row3_col7, #T_f52ad_row4_col7, #T_f52ad_row5_col7, #T_f52ad_row6_col7, #T_f52ad_row7_col7, #T_f52ad_row8_col7, #T_f52ad_row9_col7, #T_f52ad_row10_col7, #T_f52ad_row11_col7, #T_f52ad_row13_col7, #T_f52ad_row14_col7, #T_f52ad_row16_col7, #T_f52ad_row17_col7 {\n",
       "  text-align: left;\n",
       "  background-color: lightgrey;\n",
       "}\n",
       "#T_f52ad_row12_col7, #T_f52ad_row15_col7 {\n",
       "  text-align: left;\n",
       "  background-color: yellow;\n",
       "  background-color: lightgrey;\n",
       "}\n",
       "</style>\n",
       "<table id=\"T_f52ad\">\n",
       "  <thead>\n",
       "    <tr>\n",
       "      <th class=\"blank level0\" >&nbsp;</th>\n",
       "      <th id=\"T_f52ad_level0_col0\" class=\"col_heading level0 col0\" >Model</th>\n",
       "      <th id=\"T_f52ad_level0_col1\" class=\"col_heading level0 col1\" >MAE</th>\n",
       "      <th id=\"T_f52ad_level0_col2\" class=\"col_heading level0 col2\" >MSE</th>\n",
       "      <th id=\"T_f52ad_level0_col3\" class=\"col_heading level0 col3\" >RMSE</th>\n",
       "      <th id=\"T_f52ad_level0_col4\" class=\"col_heading level0 col4\" >R2</th>\n",
       "      <th id=\"T_f52ad_level0_col5\" class=\"col_heading level0 col5\" >RMSLE</th>\n",
       "      <th id=\"T_f52ad_level0_col6\" class=\"col_heading level0 col6\" >MAPE</th>\n",
       "      <th id=\"T_f52ad_level0_col7\" class=\"col_heading level0 col7\" >TT (Sec)</th>\n",
       "    </tr>\n",
       "  </thead>\n",
       "  <tbody>\n",
       "    <tr>\n",
       "      <th id=\"T_f52ad_level0_row0\" class=\"row_heading level0 row0\" >et</th>\n",
       "      <td id=\"T_f52ad_row0_col0\" class=\"data row0 col0\" >Extra Trees Regressor</td>\n",
       "      <td id=\"T_f52ad_row0_col1\" class=\"data row0 col1\" >5.0442</td>\n",
       "      <td id=\"T_f52ad_row0_col2\" class=\"data row0 col2\" >202.7457</td>\n",
       "      <td id=\"T_f52ad_row0_col3\" class=\"data row0 col3\" >13.9343</td>\n",
       "      <td id=\"T_f52ad_row0_col4\" class=\"data row0 col4\" >0.9481</td>\n",
       "      <td id=\"T_f52ad_row0_col5\" class=\"data row0 col5\" >0.2050</td>\n",
       "      <td id=\"T_f52ad_row0_col6\" class=\"data row0 col6\" >0.1616</td>\n",
       "      <td id=\"T_f52ad_row0_col7\" class=\"data row0 col7\" >0.9130</td>\n",
       "    </tr>\n",
       "    <tr>\n",
       "      <th id=\"T_f52ad_level0_row1\" class=\"row_heading level0 row1\" >rf</th>\n",
       "      <td id=\"T_f52ad_row1_col0\" class=\"data row1 col0\" >Random Forest Regressor</td>\n",
       "      <td id=\"T_f52ad_row1_col1\" class=\"data row1 col1\" >5.0777</td>\n",
       "      <td id=\"T_f52ad_row1_col2\" class=\"data row1 col2\" >212.1217</td>\n",
       "      <td id=\"T_f52ad_row1_col3\" class=\"data row1 col3\" >14.2631</td>\n",
       "      <td id=\"T_f52ad_row1_col4\" class=\"data row1 col4\" >0.9460</td>\n",
       "      <td id=\"T_f52ad_row1_col5\" class=\"data row1 col5\" >0.1935</td>\n",
       "      <td id=\"T_f52ad_row1_col6\" class=\"data row1 col6\" >0.1521</td>\n",
       "      <td id=\"T_f52ad_row1_col7\" class=\"data row1 col7\" >1.2320</td>\n",
       "    </tr>\n",
       "    <tr>\n",
       "      <th id=\"T_f52ad_level0_row2\" class=\"row_heading level0 row2\" >lightgbm</th>\n",
       "      <td id=\"T_f52ad_row2_col0\" class=\"data row2 col0\" >Light Gradient Boosting Machine</td>\n",
       "      <td id=\"T_f52ad_row2_col1\" class=\"data row2 col1\" >7.0674</td>\n",
       "      <td id=\"T_f52ad_row2_col2\" class=\"data row2 col2\" >303.3005</td>\n",
       "      <td id=\"T_f52ad_row2_col3\" class=\"data row2 col3\" >17.1220</td>\n",
       "      <td id=\"T_f52ad_row2_col4\" class=\"data row2 col4\" >0.9227</td>\n",
       "      <td id=\"T_f52ad_row2_col5\" class=\"data row2 col5\" >0.2803</td>\n",
       "      <td id=\"T_f52ad_row2_col6\" class=\"data row2 col6\" >0.2552</td>\n",
       "      <td id=\"T_f52ad_row2_col7\" class=\"data row2 col7\" >0.2230</td>\n",
       "    </tr>\n",
       "    <tr>\n",
       "      <th id=\"T_f52ad_level0_row3\" class=\"row_heading level0 row3\" >dt</th>\n",
       "      <td id=\"T_f52ad_row3_col0\" class=\"data row3 col0\" >Decision Tree Regressor</td>\n",
       "      <td id=\"T_f52ad_row3_col1\" class=\"data row3 col1\" >6.1744</td>\n",
       "      <td id=\"T_f52ad_row3_col2\" class=\"data row3 col2\" >346.1820</td>\n",
       "      <td id=\"T_f52ad_row3_col3\" class=\"data row3 col3\" >17.8994</td>\n",
       "      <td id=\"T_f52ad_row3_col4\" class=\"data row3 col4\" >0.9101</td>\n",
       "      <td id=\"T_f52ad_row3_col5\" class=\"data row3 col5\" >0.2391</td>\n",
       "      <td id=\"T_f52ad_row3_col6\" class=\"data row3 col6\" >0.1773</td>\n",
       "      <td id=\"T_f52ad_row3_col7\" class=\"data row3 col7\" >0.0490</td>\n",
       "    </tr>\n",
       "    <tr>\n",
       "      <th id=\"T_f52ad_level0_row4\" class=\"row_heading level0 row4\" >gbr</th>\n",
       "      <td id=\"T_f52ad_row4_col0\" class=\"data row4 col0\" >Gradient Boosting Regressor</td>\n",
       "      <td id=\"T_f52ad_row4_col1\" class=\"data row4 col1\" >10.4501</td>\n",
       "      <td id=\"T_f52ad_row4_col2\" class=\"data row4 col2\" >477.5274</td>\n",
       "      <td id=\"T_f52ad_row4_col3\" class=\"data row4 col3\" >21.6953</td>\n",
       "      <td id=\"T_f52ad_row4_col4\" class=\"data row4 col4\" >0.8743</td>\n",
       "      <td id=\"T_f52ad_row4_col5\" class=\"data row4 col5\" >0.4563</td>\n",
       "      <td id=\"T_f52ad_row4_col6\" class=\"data row4 col6\" >0.4586</td>\n",
       "      <td id=\"T_f52ad_row4_col7\" class=\"data row4 col7\" >0.3590</td>\n",
       "    </tr>\n",
       "    <tr>\n",
       "      <th id=\"T_f52ad_level0_row5\" class=\"row_heading level0 row5\" >knn</th>\n",
       "      <td id=\"T_f52ad_row5_col0\" class=\"data row5 col0\" >K Neighbors Regressor</td>\n",
       "      <td id=\"T_f52ad_row5_col1\" class=\"data row5 col1\" >9.7400</td>\n",
       "      <td id=\"T_f52ad_row5_col2\" class=\"data row5 col2\" >536.7134</td>\n",
       "      <td id=\"T_f52ad_row5_col3\" class=\"data row5 col3\" >22.8059</td>\n",
       "      <td id=\"T_f52ad_row5_col4\" class=\"data row5 col4\" >0.8628</td>\n",
       "      <td id=\"T_f52ad_row5_col5\" class=\"data row5 col5\" >0.3487</td>\n",
       "      <td id=\"T_f52ad_row5_col6\" class=\"data row5 col6\" >0.3321</td>\n",
       "      <td id=\"T_f52ad_row5_col7\" class=\"data row5 col7\" >0.0550</td>\n",
       "    </tr>\n",
       "    <tr>\n",
       "      <th id=\"T_f52ad_level0_row6\" class=\"row_heading level0 row6\" >lar</th>\n",
       "      <td id=\"T_f52ad_row6_col0\" class=\"data row6 col0\" >Least Angle Regression</td>\n",
       "      <td id=\"T_f52ad_row6_col1\" class=\"data row6 col1\" >22.2638</td>\n",
       "      <td id=\"T_f52ad_row6_col2\" class=\"data row6 col2\" >1709.0173</td>\n",
       "      <td id=\"T_f52ad_row6_col3\" class=\"data row6 col3\" >41.1415</td>\n",
       "      <td id=\"T_f52ad_row6_col4\" class=\"data row6 col4\" >0.5467</td>\n",
       "      <td id=\"T_f52ad_row6_col5\" class=\"data row6 col5\" >0.8565</td>\n",
       "      <td id=\"T_f52ad_row6_col6\" class=\"data row6 col6\" >1.3210</td>\n",
       "      <td id=\"T_f52ad_row6_col7\" class=\"data row6 col7\" >0.0390</td>\n",
       "    </tr>\n",
       "    <tr>\n",
       "      <th id=\"T_f52ad_level0_row7\" class=\"row_heading level0 row7\" >br</th>\n",
       "      <td id=\"T_f52ad_row7_col0\" class=\"data row7 col0\" >Bayesian Ridge</td>\n",
       "      <td id=\"T_f52ad_row7_col1\" class=\"data row7 col1\" >22.2622</td>\n",
       "      <td id=\"T_f52ad_row7_col2\" class=\"data row7 col2\" >1709.0289</td>\n",
       "      <td id=\"T_f52ad_row7_col3\" class=\"data row7 col3\" >41.1415</td>\n",
       "      <td id=\"T_f52ad_row7_col4\" class=\"data row7 col4\" >0.5467</td>\n",
       "      <td id=\"T_f52ad_row7_col5\" class=\"data row7 col5\" >0.8564</td>\n",
       "      <td id=\"T_f52ad_row7_col6\" class=\"data row7 col6\" >1.3209</td>\n",
       "      <td id=\"T_f52ad_row7_col7\" class=\"data row7 col7\" >0.0370</td>\n",
       "    </tr>\n",
       "    <tr>\n",
       "      <th id=\"T_f52ad_level0_row8\" class=\"row_heading level0 row8\" >ridge</th>\n",
       "      <td id=\"T_f52ad_row8_col0\" class=\"data row8 col0\" >Ridge Regression</td>\n",
       "      <td id=\"T_f52ad_row8_col1\" class=\"data row8 col1\" >22.2633</td>\n",
       "      <td id=\"T_f52ad_row8_col2\" class=\"data row8 col2\" >1709.0206</td>\n",
       "      <td id=\"T_f52ad_row8_col3\" class=\"data row8 col3\" >41.1415</td>\n",
       "      <td id=\"T_f52ad_row8_col4\" class=\"data row8 col4\" >0.5467</td>\n",
       "      <td id=\"T_f52ad_row8_col5\" class=\"data row8 col5\" >0.8565</td>\n",
       "      <td id=\"T_f52ad_row8_col6\" class=\"data row8 col6\" >1.3209</td>\n",
       "      <td id=\"T_f52ad_row8_col7\" class=\"data row8 col7\" >0.0380</td>\n",
       "    </tr>\n",
       "    <tr>\n",
       "      <th id=\"T_f52ad_level0_row9\" class=\"row_heading level0 row9\" >lr</th>\n",
       "      <td id=\"T_f52ad_row9_col0\" class=\"data row9 col0\" >Linear Regression</td>\n",
       "      <td id=\"T_f52ad_row9_col1\" class=\"data row9 col1\" >22.2638</td>\n",
       "      <td id=\"T_f52ad_row9_col2\" class=\"data row9 col2\" >1709.0173</td>\n",
       "      <td id=\"T_f52ad_row9_col3\" class=\"data row9 col3\" >41.1415</td>\n",
       "      <td id=\"T_f52ad_row9_col4\" class=\"data row9 col4\" >0.5467</td>\n",
       "      <td id=\"T_f52ad_row9_col5\" class=\"data row9 col5\" >0.8565</td>\n",
       "      <td id=\"T_f52ad_row9_col6\" class=\"data row9 col6\" >1.3210</td>\n",
       "      <td id=\"T_f52ad_row9_col7\" class=\"data row9 col7\" >0.7550</td>\n",
       "    </tr>\n",
       "    <tr>\n",
       "      <th id=\"T_f52ad_level0_row10\" class=\"row_heading level0 row10\" >lasso</th>\n",
       "      <td id=\"T_f52ad_row10_col0\" class=\"data row10 col0\" >Lasso Regression</td>\n",
       "      <td id=\"T_f52ad_row10_col1\" class=\"data row10 col1\" >21.9987</td>\n",
       "      <td id=\"T_f52ad_row10_col2\" class=\"data row10 col2\" >1713.5821</td>\n",
       "      <td id=\"T_f52ad_row10_col3\" class=\"data row10 col3\" >41.1886</td>\n",
       "      <td id=\"T_f52ad_row10_col4\" class=\"data row10 col4\" >0.5457</td>\n",
       "      <td id=\"T_f52ad_row10_col5\" class=\"data row10 col5\" >0.8385</td>\n",
       "      <td id=\"T_f52ad_row10_col6\" class=\"data row10 col6\" >1.2892</td>\n",
       "      <td id=\"T_f52ad_row10_col7\" class=\"data row10 col7\" >0.0500</td>\n",
       "    </tr>\n",
       "    <tr>\n",
       "      <th id=\"T_f52ad_level0_row11\" class=\"row_heading level0 row11\" >llar</th>\n",
       "      <td id=\"T_f52ad_row11_col0\" class=\"data row11 col0\" >Lasso Least Angle Regression</td>\n",
       "      <td id=\"T_f52ad_row11_col1\" class=\"data row11 col1\" >21.9987</td>\n",
       "      <td id=\"T_f52ad_row11_col2\" class=\"data row11 col2\" >1713.5821</td>\n",
       "      <td id=\"T_f52ad_row11_col3\" class=\"data row11 col3\" >41.1886</td>\n",
       "      <td id=\"T_f52ad_row11_col4\" class=\"data row11 col4\" >0.5457</td>\n",
       "      <td id=\"T_f52ad_row11_col5\" class=\"data row11 col5\" >0.8385</td>\n",
       "      <td id=\"T_f52ad_row11_col6\" class=\"data row11 col6\" >1.2892</td>\n",
       "      <td id=\"T_f52ad_row11_col7\" class=\"data row11 col7\" >0.0370</td>\n",
       "    </tr>\n",
       "    <tr>\n",
       "      <th id=\"T_f52ad_level0_row12\" class=\"row_heading level0 row12\" >omp</th>\n",
       "      <td id=\"T_f52ad_row12_col0\" class=\"data row12 col0\" >Orthogonal Matching Pursuit</td>\n",
       "      <td id=\"T_f52ad_row12_col1\" class=\"data row12 col1\" >22.0120</td>\n",
       "      <td id=\"T_f52ad_row12_col2\" class=\"data row12 col2\" >1769.7617</td>\n",
       "      <td id=\"T_f52ad_row12_col3\" class=\"data row12 col3\" >41.8638</td>\n",
       "      <td id=\"T_f52ad_row12_col4\" class=\"data row12 col4\" >0.5303</td>\n",
       "      <td id=\"T_f52ad_row12_col5\" class=\"data row12 col5\" >0.8166</td>\n",
       "      <td id=\"T_f52ad_row12_col6\" class=\"data row12 col6\" >1.2653</td>\n",
       "      <td id=\"T_f52ad_row12_col7\" class=\"data row12 col7\" >0.0340</td>\n",
       "    </tr>\n",
       "    <tr>\n",
       "      <th id=\"T_f52ad_level0_row13\" class=\"row_heading level0 row13\" >huber</th>\n",
       "      <td id=\"T_f52ad_row13_col0\" class=\"data row13 col0\" >Huber Regressor</td>\n",
       "      <td id=\"T_f52ad_row13_col1\" class=\"data row13 col1\" >21.4373</td>\n",
       "      <td id=\"T_f52ad_row13_col2\" class=\"data row13 col2\" >1783.0521</td>\n",
       "      <td id=\"T_f52ad_row13_col3\" class=\"data row13 col3\" >41.9923</td>\n",
       "      <td id=\"T_f52ad_row13_col4\" class=\"data row13 col4\" >0.5289</td>\n",
       "      <td id=\"T_f52ad_row13_col5\" class=\"data row13 col5\" >0.7884</td>\n",
       "      <td id=\"T_f52ad_row13_col6\" class=\"data row13 col6\" >1.1464</td>\n",
       "      <td id=\"T_f52ad_row13_col7\" class=\"data row13 col7\" >0.0460</td>\n",
       "    </tr>\n",
       "    <tr>\n",
       "      <th id=\"T_f52ad_level0_row14\" class=\"row_heading level0 row14\" >ada</th>\n",
       "      <td id=\"T_f52ad_row14_col0\" class=\"data row14 col0\" >AdaBoost Regressor</td>\n",
       "      <td id=\"T_f52ad_row14_col1\" class=\"data row14 col1\" >29.7754</td>\n",
       "      <td id=\"T_f52ad_row14_col2\" class=\"data row14 col2\" >1740.7800</td>\n",
       "      <td id=\"T_f52ad_row14_col3\" class=\"data row14 col3\" >41.6824</td>\n",
       "      <td id=\"T_f52ad_row14_col4\" class=\"data row14 col4\" >0.5273</td>\n",
       "      <td id=\"T_f52ad_row14_col5\" class=\"data row14 col5\" >1.1289</td>\n",
       "      <td id=\"T_f52ad_row14_col6\" class=\"data row14 col6\" >2.5818</td>\n",
       "      <td id=\"T_f52ad_row14_col7\" class=\"data row14 col7\" >0.1970</td>\n",
       "    </tr>\n",
       "    <tr>\n",
       "      <th id=\"T_f52ad_level0_row15\" class=\"row_heading level0 row15\" >par</th>\n",
       "      <td id=\"T_f52ad_row15_col0\" class=\"data row15 col0\" >Passive Aggressive Regressor</td>\n",
       "      <td id=\"T_f52ad_row15_col1\" class=\"data row15 col1\" >22.7292</td>\n",
       "      <td id=\"T_f52ad_row15_col2\" class=\"data row15 col2\" >1810.2336</td>\n",
       "      <td id=\"T_f52ad_row15_col3\" class=\"data row15 col3\" >42.2958</td>\n",
       "      <td id=\"T_f52ad_row15_col4\" class=\"data row15 col4\" >0.5214</td>\n",
       "      <td id=\"T_f52ad_row15_col5\" class=\"data row15 col5\" >0.8760</td>\n",
       "      <td id=\"T_f52ad_row15_col6\" class=\"data row15 col6\" >1.4011</td>\n",
       "      <td id=\"T_f52ad_row15_col7\" class=\"data row15 col7\" >0.0340</td>\n",
       "    </tr>\n",
       "    <tr>\n",
       "      <th id=\"T_f52ad_level0_row16\" class=\"row_heading level0 row16\" >en</th>\n",
       "      <td id=\"T_f52ad_row16_col0\" class=\"data row16 col0\" >Elastic Net</td>\n",
       "      <td id=\"T_f52ad_row16_col1\" class=\"data row16 col1\" >23.0162</td>\n",
       "      <td id=\"T_f52ad_row16_col2\" class=\"data row16 col2\" >1962.1349</td>\n",
       "      <td id=\"T_f52ad_row16_col3\" class=\"data row16 col3\" >44.0314</td>\n",
       "      <td id=\"T_f52ad_row16_col4\" class=\"data row16 col4\" >0.4837</td>\n",
       "      <td id=\"T_f52ad_row16_col5\" class=\"data row16 col5\" >0.8886</td>\n",
       "      <td id=\"T_f52ad_row16_col6\" class=\"data row16 col6\" >1.5153</td>\n",
       "      <td id=\"T_f52ad_row16_col7\" class=\"data row16 col7\" >0.0480</td>\n",
       "    </tr>\n",
       "    <tr>\n",
       "      <th id=\"T_f52ad_level0_row17\" class=\"row_heading level0 row17\" >dummy</th>\n",
       "      <td id=\"T_f52ad_row17_col0\" class=\"data row17 col0\" >Dummy Regressor</td>\n",
       "      <td id=\"T_f52ad_row17_col1\" class=\"data row17 col1\" >33.2095</td>\n",
       "      <td id=\"T_f52ad_row17_col2\" class=\"data row17 col2\" >3817.9567</td>\n",
       "      <td id=\"T_f52ad_row17_col3\" class=\"data row17 col3\" >61.4652</td>\n",
       "      <td id=\"T_f52ad_row17_col4\" class=\"data row17 col4\" >-0.0013</td>\n",
       "      <td id=\"T_f52ad_row17_col5\" class=\"data row17 col5\" >1.2055</td>\n",
       "      <td id=\"T_f52ad_row17_col6\" class=\"data row17 col6\" >2.6190</td>\n",
       "      <td id=\"T_f52ad_row17_col7\" class=\"data row17 col7\" >0.0510</td>\n",
       "    </tr>\n",
       "  </tbody>\n",
       "</table>\n"
      ]
     },
     "metadata": {},
     "output_type": "display_data"
    }
   ],
   "execution_count": 22
  },
  {
   "metadata": {
    "ExecuteTime": {
     "end_time": "2024-06-11T21:32:36.278832Z",
     "start_time": "2024-06-11T21:32:36.270838Z"
    }
   },
   "cell_type": "code",
   "source": "# tuned_model = tune_model(best_model)",
   "id": "120fdc03be659ec",
   "outputs": [],
   "execution_count": 23
  },
  {
   "metadata": {
    "ExecuteTime": {
     "end_time": "2024-06-11T21:32:38.458049Z",
     "start_time": "2024-06-11T21:32:36.282832Z"
    }
   },
   "cell_type": "code",
   "source": [
    "final_model = finalize_model(best_model)\n",
    "predictions = predict_model(final_model)"
   ],
   "id": "534fa130cbb22412",
   "outputs": [
    {
     "data": {
      "text/plain": [
       "<pandas.io.formats.style.Styler at 0x226d6dd84d0>"
      ],
      "text/html": [
       "<style type=\"text/css\">\n",
       "</style>\n",
       "<table id=\"T_ca036\">\n",
       "  <thead>\n",
       "    <tr>\n",
       "      <th class=\"blank level0\" >&nbsp;</th>\n",
       "      <th id=\"T_ca036_level0_col0\" class=\"col_heading level0 col0\" >Model</th>\n",
       "      <th id=\"T_ca036_level0_col1\" class=\"col_heading level0 col1\" >MAE</th>\n",
       "      <th id=\"T_ca036_level0_col2\" class=\"col_heading level0 col2\" >MSE</th>\n",
       "      <th id=\"T_ca036_level0_col3\" class=\"col_heading level0 col3\" >RMSE</th>\n",
       "      <th id=\"T_ca036_level0_col4\" class=\"col_heading level0 col4\" >R2</th>\n",
       "      <th id=\"T_ca036_level0_col5\" class=\"col_heading level0 col5\" >RMSLE</th>\n",
       "      <th id=\"T_ca036_level0_col6\" class=\"col_heading level0 col6\" >MAPE</th>\n",
       "    </tr>\n",
       "  </thead>\n",
       "  <tbody>\n",
       "    <tr>\n",
       "      <th id=\"T_ca036_level0_row0\" class=\"row_heading level0 row0\" >0</th>\n",
       "      <td id=\"T_ca036_row0_col0\" class=\"data row0 col0\" >Extra Trees Regressor</td>\n",
       "      <td id=\"T_ca036_row0_col1\" class=\"data row0 col1\" >5.8135</td>\n",
       "      <td id=\"T_ca036_row0_col2\" class=\"data row0 col2\" >279.7224</td>\n",
       "      <td id=\"T_ca036_row0_col3\" class=\"data row0 col3\" >16.7249</td>\n",
       "      <td id=\"T_ca036_row0_col4\" class=\"data row0 col4\" >0.9473</td>\n",
       "      <td id=\"T_ca036_row0_col5\" class=\"data row0 col5\" >0.2312</td>\n",
       "      <td id=\"T_ca036_row0_col6\" class=\"data row0 col6\" >0.1938</td>\n",
       "    </tr>\n",
       "  </tbody>\n",
       "</table>\n"
      ]
     },
     "metadata": {},
     "output_type": "display_data"
    }
   ],
   "execution_count": 24
  },
  {
   "metadata": {
    "ExecuteTime": {
     "end_time": "2024-06-11T21:32:39.108841Z",
     "start_time": "2024-06-11T21:32:38.459049Z"
    }
   },
   "cell_type": "code",
   "source": [
    "evaluate_model(final_model)\n",
    "\n",
    "metrics = pull()\n",
    "print(metrics)"
   ],
   "id": "48e0475c7d025cbd",
   "outputs": [
    {
     "data": {
      "text/plain": [
       "interactive(children=(ToggleButtons(description='Plot Type:', icons=('',), options=(('Pipeline Plot', 'pipelin…"
      ],
      "application/vnd.jupyter.widget-view+json": {
       "version_major": 2,
       "version_minor": 0,
       "model_id": "b8999c12338f49168ed8bc3c8acbc1c2"
      }
     },
     "metadata": {},
     "output_type": "display_data"
    },
    {
     "name": "stdout",
     "output_type": "stream",
     "text": [
      "                   Model     MAE       MSE     RMSE      R2   RMSLE    MAPE\n",
      "0  Extra Trees Regressor  5.8135  279.7224  16.7249  0.9473  0.2312  0.1938\n"
     ]
    }
   ],
   "execution_count": 25
  },
  {
   "metadata": {
    "ExecuteTime": {
     "end_time": "2024-06-11T21:32:39.114128Z",
     "start_time": "2024-06-11T21:32:39.109837Z"
    }
   },
   "cell_type": "code",
   "source": [
    "test_base_date = datetime.strptime('2023-06-01', '%Y-%m-%d')\n",
    "test_intervals = {\n",
    "    # 'one_day': (test_base_date, test_base_date + timedelta(days=1)),\n",
    "    # 'one_week': (test_base_date, test_base_date + timedelta(weeks=1)),\n",
    "    # 'one_month': (test_base_date, test_base_date + timedelta(days=30)),\n",
    "    # 'two_months': (test_base_date, test_base_date + timedelta(days=30*2)),\n",
    "    # 'three_months': (test_base_date, test_base_date + timedelta(days=30*3)),\n",
    "    'five_months': (test_base_date, test_base_date + timedelta(days=30*5))\n",
    "}"
   ],
   "id": "3c0334e78c33cab1",
   "outputs": [],
   "execution_count": 26
  },
  {
   "metadata": {
    "ExecuteTime": {
     "end_time": "2024-06-11T21:49:35.428658Z",
     "start_time": "2024-06-11T21:43:04.961994Z"
    }
   },
   "cell_type": "code",
   "source": [
    "all_intervals_df = []\n",
    "for label, (start, end) in test_intervals.items():\n",
    "    print(f\"Initiating processing of interval {start} to {end}\")\n",
    "    \n",
    "    interval_df = process_interval(start, end)\n",
    "    \n",
    "    all_intervals_df.append(interval_df)\n",
    "\n",
    "test_df = pd.concat(all_intervals_df)"
   ],
   "id": "c29c01ff0e92ef7c",
   "outputs": [
    {
     "name": "stdout",
     "output_type": "stream",
     "text": [
      "Initiating processing of interval 2023-06-01 00:00:00 to 2023-10-29 00:00:00\n"
     ]
    }
   ],
   "execution_count": 28
  },
  {
   "metadata": {
    "ExecuteTime": {
     "end_time": "2024-06-11T21:49:35.443726Z",
     "start_time": "2024-06-11T21:49:35.430654Z"
    }
   },
   "cell_type": "code",
   "source": [
    "test_df = test_df.reset_index()\n",
    "\n",
    "test_df['station_complex_id'] = test_df['station_complex_id'].astype(str)\n",
    "test_df = test_df.drop('index', axis=1)"
   ],
   "id": "787baac56b653c94",
   "outputs": [],
   "execution_count": 29
  },
  {
   "metadata": {
    "ExecuteTime": {
     "end_time": "2024-06-11T21:49:35.922948Z",
     "start_time": "2024-06-11T21:49:35.444733Z"
    }
   },
   "cell_type": "code",
   "source": [
    "new_predictions = predict_model(final_model, data=test_df)\n",
    "\n",
    "print(new_predictions.tail())"
   ],
   "id": "70b99e5339caab89",
   "outputs": [
    {
     "data": {
      "text/plain": [
       "<pandas.io.formats.style.Styler at 0x226807b32d0>"
      ],
      "text/html": [
       "<style type=\"text/css\">\n",
       "</style>\n",
       "<table id=\"T_07d54\">\n",
       "  <thead>\n",
       "    <tr>\n",
       "      <th class=\"blank level0\" >&nbsp;</th>\n",
       "      <th id=\"T_07d54_level0_col0\" class=\"col_heading level0 col0\" >Model</th>\n",
       "      <th id=\"T_07d54_level0_col1\" class=\"col_heading level0 col1\" >MAE</th>\n",
       "      <th id=\"T_07d54_level0_col2\" class=\"col_heading level0 col2\" >MSE</th>\n",
       "      <th id=\"T_07d54_level0_col3\" class=\"col_heading level0 col3\" >RMSE</th>\n",
       "      <th id=\"T_07d54_level0_col4\" class=\"col_heading level0 col4\" >R2</th>\n",
       "      <th id=\"T_07d54_level0_col5\" class=\"col_heading level0 col5\" >RMSLE</th>\n",
       "      <th id=\"T_07d54_level0_col6\" class=\"col_heading level0 col6\" >MAPE</th>\n",
       "    </tr>\n",
       "  </thead>\n",
       "  <tbody>\n",
       "    <tr>\n",
       "      <th id=\"T_07d54_level0_row0\" class=\"row_heading level0 row0\" >0</th>\n",
       "      <td id=\"T_07d54_row0_col0\" class=\"data row0 col0\" >Extra Trees Regressor</td>\n",
       "      <td id=\"T_07d54_row0_col1\" class=\"data row0 col1\" >10.5438</td>\n",
       "      <td id=\"T_07d54_row0_col2\" class=\"data row0 col2\" >634.8610</td>\n",
       "      <td id=\"T_07d54_row0_col3\" class=\"data row0 col3\" >25.1964</td>\n",
       "      <td id=\"T_07d54_row0_col4\" class=\"data row0 col4\" >0.8404</td>\n",
       "      <td id=\"T_07d54_row0_col5\" class=\"data row0 col5\" >0.3790</td>\n",
       "      <td id=\"T_07d54_row0_col6\" class=\"data row0 col6\" >0.3655</td>\n",
       "    </tr>\n",
       "  </tbody>\n",
       "</table>\n"
      ]
     },
     "metadata": {},
     "output_type": "display_data"
    },
    {
     "name": "stdout",
     "output_type": "stream",
     "text": [
      "       period  weekday station_complex_id   latitude  longitude  ridership  \\\n",
      "23905       4        6                 97  40.697208 -73.935654   8.279368   \n",
      "23906       4        6                 98  40.700260 -73.941124   8.192062   \n",
      "23907       4        6                 99  40.703869 -73.947411   6.384952   \n",
      "23908       4        6              TRAM1  40.761337 -73.964157  20.083488   \n",
      "23909       4        6              TRAM2  40.757339 -73.954117  15.183368   \n",
      "\n",
      "       prediction_label  \n",
      "23905          9.470105  \n",
      "23906         21.131268  \n",
      "23907          7.489213  \n",
      "23908         23.852886  \n",
      "23909         18.837566  \n"
     ]
    }
   ],
   "execution_count": 30
  },
  {
   "metadata": {
    "ExecuteTime": {
     "end_time": "2024-06-11T22:01:12.843133Z",
     "start_time": "2024-06-11T22:01:12.838321Z"
    }
   },
   "cell_type": "code",
   "source": "print(intervals)",
   "id": "4cb6ce3a28c6f223",
   "outputs": [
    {
     "name": "stdout",
     "output_type": "stream",
     "text": [
      "{'five_months': (datetime.datetime(2023, 1, 1, 0, 0), datetime.datetime(2023, 5, 31, 0, 0))}\n"
     ]
    }
   ],
   "execution_count": 32
  }
 ],
 "metadata": {
  "kernelspec": {
   "display_name": "Python 3",
   "language": "python",
   "name": "python3"
  },
  "language_info": {
   "codemirror_mode": {
    "name": "ipython",
    "version": 2
   },
   "file_extension": ".py",
   "mimetype": "text/x-python",
   "name": "python",
   "nbconvert_exporter": "python",
   "pygments_lexer": "ipython2",
   "version": "2.7.6"
  }
 },
 "nbformat": 4,
 "nbformat_minor": 5
}
